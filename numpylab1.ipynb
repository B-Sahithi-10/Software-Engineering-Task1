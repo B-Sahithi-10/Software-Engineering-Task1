{
  "nbformat": 4,
  "nbformat_minor": 0,
  "metadata": {
    "colab": {
      "provenance": []
    },
    "kernelspec": {
      "name": "python3",
      "display_name": "Python 3"
    },
    "language_info": {
      "name": "python"
    }
  },
  "cells": [
    {
      "cell_type": "code",
      "execution_count": 1,
      "metadata": {
        "colab": {
          "base_uri": "https://localhost:8080/"
        },
        "id": "RmOV2XLBxRs7",
        "outputId": "68926b0f-fc0b-4229-b1aa-9e494d2611af"
      },
      "outputs": [
        {
          "output_type": "stream",
          "name": "stdout",
          "text": [
            "Initial array:\n",
            "[10 20 30 40 50]\n",
            "Column to append:\n",
            "[[100]\n",
            " [101]\n",
            " [102]\n",
            " [103]\n",
            " [104]]\n",
            "After appending column-wise:\n",
            "[[ 10 100]\n",
            " [ 20 101]\n",
            " [ 30 102]\n",
            " [ 40 103]\n",
            " [ 50 104]]\n"
          ]
        }
      ],
      "source": [
        "import numpy as np\n",
        "\n",
        "# Modified 1D array\n",
        "arr = np.array([10, 20, 30, 40, 50])\n",
        "print(\"Initial array:\")\n",
        "print(arr)\n",
        "\n",
        "# Modified column to append\n",
        "col = np.arange(100, 105).reshape(-1, 1)\n",
        "print(\"Column to append:\")\n",
        "print(col)\n",
        "\n",
        "# Reshape the initial array to be a column vector\n",
        "arr_reshaped = arr.reshape(-1, 1)\n",
        "\n",
        "# Append the new column\n",
        "result = np.append(arr_reshaped, col, axis=1)\n",
        "print(\"After appending column-wise:\")\n",
        "print(result)\n"
      ]
    },
    {
      "cell_type": "code",
      "source": [
        "import numpy as np\n",
        "\n",
        "# Modified 2D array\n",
        "arr = np.array([[10, 20, 30, 40, 50]])\n",
        "print(\"Initial 2D array:\")\n",
        "print(arr)\n",
        "\n",
        "# Modified row to append\n",
        "row = np.array([60, 70, 80, 90, 100]).reshape(1, -1)\n",
        "print(\"Row to append:\")\n",
        "print(row)\n",
        "\n",
        "# Append the new row\n",
        "result = np.append(arr, row, axis=0)\n",
        "print(\"After appending row-wise:\")\n",
        "print(result)\n"
      ],
      "metadata": {
        "colab": {
          "base_uri": "https://localhost:8080/"
        },
        "id": "ZpQPDpayycFn",
        "outputId": "f61c73a8-1c70-4681-e2ff-0640a3b9330d"
      },
      "execution_count": 2,
      "outputs": [
        {
          "output_type": "stream",
          "name": "stdout",
          "text": [
            "Initial 2D array:\n",
            "[[10 20 30 40 50]]\n",
            "Row to append:\n",
            "[[ 60  70  80  90 100]]\n",
            "After appending row-wise:\n",
            "[[ 10  20  30  40  50]\n",
            " [ 60  70  80  90 100]]\n"
          ]
        }
      ]
    }
  ]
}