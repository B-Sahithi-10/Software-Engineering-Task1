{
  "nbformat": 4,
  "nbformat_minor": 0,
  "metadata": {
    "colab": {
      "provenance": []
    },
    "kernelspec": {
      "name": "python3",
      "display_name": "Python 3"
    },
    "language_info": {
      "name": "python"
    }
  },
  "cells": [
    {
      "cell_type": "code",
      "execution_count": 2,
      "metadata": {
        "colab": {
          "base_uri": "https://localhost:8080/"
        },
        "id": "CoOvxQi010P3",
        "outputId": "9cdda933-4fff-436e-a822-71d430ba8572"
      },
      "outputs": [
        {
          "output_type": "stream",
          "name": "stdout",
          "text": [
            "Initial DataFrame:\n",
            "     Name  Roll Number\n",
            "0     Ram          200\n",
            "1    Sita          201\n",
            "2  Vishnu          202\n",
            "\n",
            "DataFrame created using a different method:\n",
            "     Name  Roll Number Gender\n",
            "0     Ram          200      F\n",
            "1    Sita          201      F\n",
            "2  Vishnu          202      M\n",
            "\n",
            "DataFrame after adding a new column 'Score':\n",
            "     Name  Roll Number Gender  Score\n",
            "0     Ram          200      F     88\n",
            "1    Sita          201      F     92\n",
            "2  Vishnu          202      M     79\n",
            "\n",
            "Grouped DataFrame by 'Gender':\n",
            "        Roll Number  Score\n",
            "Gender                    \n",
            "F             200.5   90.0\n",
            "M             202.0   79.0\n"
          ]
        }
      ],
      "source": [
        "import pandas as pd\n",
        "\n",
        "data = {'Name': ['Ram', 'Sita', 'Vishnu'],\n",
        "        'Roll Number': [200, 201, 202]}\n",
        "df = pd.DataFrame(data)\n",
        "print(\"Initial DataFrame:\")\n",
        "print(df)\n",
        "\n",
        "data = [['Ram', 200, 'F'], ['Sita', 201, 'F'], ['Vishnu', 202, 'M']]\n",
        "df = pd.DataFrame(data, columns=['Name', 'Roll Number', 'Gender'])\n",
        "print(\"\\nDataFrame created using a different method:\")\n",
        "print(df)\n",
        "\n",
        "df['Score'] = [88, 92, 79]\n",
        "print(\"\\nDataFrame after adding a new column 'Score':\")\n",
        "print(df)\n",
        "\n",
        "grouped_df = df.groupby('Gender').mean(numeric_only=True)\n",
        "print(\"\\nGrouped DataFrame by 'Gender':\")\n",
        "print(grouped_df)\n"
      ]
    }
  ]
}